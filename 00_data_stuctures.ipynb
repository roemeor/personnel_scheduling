{
 "cells": [
  {
   "cell_type": "code",
   "execution_count": null,
   "metadata": {},
   "outputs": [],
   "source": [
    "# default_exp data_structures"
   ]
  },
  {
   "cell_type": "markdown",
   "metadata": {},
   "source": [
    "# Data Structures for Personnel Scheduling\n",
    "\n",
    "\n",
    "At the moment, these are mostly structures for mulit-activity shift scheduling.\n",
    "\n",
    "Some basic assumptions here:\n",
    "- an activy may have different types. If the actitivy type is an integer, it is a work activity, other actitity types are characterized using strings such as `'break'`\n",
    "- time is simply modeled using integer periods staring with 0\n",
    "\n",
    "\n"
   ]
  },
  {
   "cell_type": "code",
   "execution_count": null,
   "metadata": {},
   "outputs": [],
   "source": [
    "#hide\n",
    "from nbdev.showdoc import *"
   ]
  },
  {
   "cell_type": "code",
   "execution_count": null,
   "metadata": {},
   "outputs": [],
   "source": [
    "#export\n",
    "\n",
    "import importlib\n",
    "from collections import namedtuple\n",
    "\n",
    "from box import Box\n",
    "import numpy as np\n",
    "import pandas as pd\n",
    "from dataclasses import dataclass, field\n",
    "\n"
   ]
  },
  {
   "cell_type": "markdown",
   "metadata": {},
   "source": [
    "## Helper Functions"
   ]
  },
  {
   "cell_type": "code",
   "execution_count": null,
   "metadata": {},
   "outputs": [],
   "source": [
    "#export\n",
    "\n",
    "def is_work(activity_type):\n",
    "    return activity_type is not None and (type(activity_type) != str or activity_type.isnumeric())\n",
    "\n"
   ]
  },
  {
   "cell_type": "code",
   "execution_count": null,
   "metadata": {},
   "outputs": [],
   "source": [
    "#export\n",
    "\n",
    "def get_end_period_block(start_period_block,length_block):\n",
    "    return (start_period_block + length_block-1)\n",
    "\n",
    "def get_next_period(p):\n",
    "    return p+1\n",
    "    "
   ]
  },
  {
   "cell_type": "markdown",
   "metadata": {},
   "source": [
    "## Data Structures for shift schedules\n",
    "\n",
    "The following data structures are used to represent activity blocks, work blocks and shifts; they are hierarchically structured as follows:\n",
    "- an acitivty block consists of an activity type and a period of time in which this activity is assigned in a shift\n",
    "- a work block is a block of consecutive work activities \n",
    "- a shift contains all activity blocks and work and break blocks constituting a full shift\n",
    "- a shift schedule is a set of shifts that, in a typcial (multiactivity) shift scheduling problem, constitutes a solution."
   ]
  },
  {
   "cell_type": "markdown",
   "metadata": {},
   "source": [
    "### Blocks\n"
   ]
  },
  {
   "cell_type": "code",
   "execution_count": null,
   "metadata": {},
   "outputs": [
    {
     "ename": "NameError",
     "evalue": "name 'dataclass' is not defined",
     "output_type": "error",
     "traceback": [
      "\u001b[1;31m---------------------------------------------------------------------------\u001b[0m",
      "\u001b[1;31mNameError\u001b[0m                                 Traceback (most recent call last)",
      "Input \u001b[1;32mIn [1]\u001b[0m, in \u001b[0;36m<module>\u001b[1;34m\u001b[0m\n\u001b[0;32m      1\u001b[0m \u001b[38;5;66;03m#export\u001b[39;00m\n\u001b[1;32m----> 3\u001b[0m \u001b[38;5;129m@dataclass\u001b[39m(eq\u001b[38;5;241m=\u001b[39m\u001b[38;5;28;01mTrue\u001b[39;00m, frozen\u001b[38;5;241m=\u001b[39m\u001b[38;5;28;01mTrue\u001b[39;00m)\n\u001b[0;32m      4\u001b[0m \u001b[38;5;28;01mclass\u001b[39;00m \u001b[38;5;21;01mBlock\u001b[39;00m:\n\u001b[0;32m      5\u001b[0m     start_period: \u001b[38;5;28mint\u001b[39m\n\u001b[0;32m      6\u001b[0m     end_period: \u001b[38;5;28mint\u001b[39m\n",
      "\u001b[1;31mNameError\u001b[0m: name 'dataclass' is not defined"
     ]
    }
   ],
   "source": [
    "#export\n",
    "\n",
    "@dataclass(eq=True, frozen=True)\n",
    "class Block:\n",
    "    start_period: int\n",
    "    end_period: int\n",
    "        \n",
    "    def get_start_period(self):\n",
    "        return self.start_period\n",
    "    \n",
    "    def get_end_period(self):\n",
    "        return self.end_period\n",
    "    \n",
    "    def get_number_of_periods(self):\n",
    "        return self.end_period - self.start_period + 1\n",
    "    \n",
    "        \n",
    "        "
   ]
  },
  {
   "cell_type": "markdown",
   "metadata": {},
   "source": [
    "### Activity Blocks"
   ]
  },
  {
   "cell_type": "code",
   "execution_count": null,
   "metadata": {},
   "outputs": [],
   "source": [
    "#export\n",
    "\n",
    "@dataclass(eq=True, frozen=True)\n",
    "class ActivityBlock(Block):\n",
    "    activity_type: str\n",
    "    \n",
    "\n",
    "    def is_work(self):\n",
    "        return is_work(self.activity_type)\n",
    "    \n",
    "    def get_number_of_work_periods(self):\n",
    "        if self.is_work():\n",
    "            return self.get_number_of_periods()\n",
    "        return 0\n",
    "    \n",
    "    def get_number_of_break_periods(self):\n",
    "        if not self.is_work():\n",
    "            return self.get_number_of_periods()\n",
    "        return 0\n",
    "    \n",
    "    def covers_demand(self, p, act):\n",
    "        if self.activity_type != act:\n",
    "            return False\n",
    "    \n",
    "        if (self.start_period <= self.end_period):\n",
    "            return p >= self.start_period and p <= self.end_period\n",
    "        else:\n",
    "            return p >= self.start_period or p <= self.end_period\n",
    "        \n",
    "    def get_list_representation(self):\n",
    "        activity = ''\n",
    "        if self.is_work():\n",
    "            activity = self.activity_type\n",
    "            \n",
    "        return [activity for i in range(self.end_period - self.start_period + 1)]\n",
    "    \n",
    "    def get_block(self):\n",
    "        return Block(self.start_period, self.end_period)\n",
    "    "
   ]
  },
  {
   "cell_type": "code",
   "execution_count": null,
   "metadata": {},
   "outputs": [],
   "source": [
    "# maybe we can wrap this in tests       \n",
    "activity_block = ActivityBlock(0,2,'1')\n",
    "\n",
    "activity_block.is_work()\n",
    "\n",
    "activity_block.get_number_of_work_periods()\n",
    "\n",
    "block = activity_block.get_block()\n",
    "\n"
   ]
  },
  {
   "cell_type": "code",
   "execution_count": null,
   "metadata": {},
   "outputs": [
    {
     "data": {
      "text/plain": [
       "2"
      ]
     },
     "execution_count": null,
     "metadata": {},
     "output_type": "execute_result"
    }
   ],
   "source": [
    "same_activity_block = ActivityBlock(0,2,'1')\n",
    "\n",
    "activity_block == same_activity_block\n",
    "\n",
    "dict_activity_block = {}\n",
    "dict_activity_block[activity_block] = 1\n",
    "dict_activity_block[same_activity_block] = 2\n",
    "\n",
    "dict_activity_block[activity_block]"
   ]
  },
  {
   "cell_type": "code",
   "execution_count": null,
   "metadata": {},
   "outputs": [],
   "source": [
    "#export\n",
    "\n",
    "def create_activity_blocks_from_list_or_array(activity_list):\n",
    "\n",
    "    last_activity_type = activity_list[0]\n",
    "        \n",
    "    last_activity_start_index = 0\n",
    "    \n",
    "    index = 0    \n",
    "    activity_blocks = []\n",
    "    # create activity blocks:\n",
    "    \n",
    "    for activity_type in activity_list[1:]:\n",
    "        index +=1\n",
    "        \n",
    "        if activity_type != last_activity_type: \n",
    "\n",
    "            # do not use first activity block if it is non-work\n",
    "            if is_work(last_activity_type) or len(activity_blocks) > 0:\n",
    "                activity_blocks.append(ActivityBlock(last_activity_start_index, index-1, last_activity_type))\n",
    "\n",
    "            last_activity_type = activity_type\n",
    "            last_activity_start_index = index            \n",
    "        \n",
    "\n",
    "    #if the last block is work, create the last block    \n",
    "    if is_work(last_activity_type):\n",
    "        activity_blocks.append(ActivityBlock(last_activity_start_index, index, last_activity_type))\n",
    "        \n",
    "    return activity_blocks\n",
    "    "
   ]
  },
  {
   "cell_type": "markdown",
   "metadata": {},
   "source": [
    "### Work Blocks\n"
   ]
  },
  {
   "cell_type": "code",
   "execution_count": null,
   "metadata": {},
   "outputs": [],
   "source": [
    "#export\n",
    "\n",
    "@dataclass\n",
    "class WorkBlock:\n",
    "    activity_blocks: list = field(default_factory=list)\n",
    "        \n",
    "    def get_start_period(self):\n",
    "        return self.activity_blocks[0].get_start_period()\n",
    "    \n",
    "    def get_end_period(self):\n",
    "        return self.activity_blocks[-1].get_end_period()\n",
    "    \n",
    "    def is_work(self):\n",
    "        return True\n",
    "    \n",
    "    def get_number_of_periods(self):\n",
    "        return self.get_end_period() - self.get_start_period() + 1\n",
    "    \n",
    "    def get_number_of_work_periods(self):\n",
    "        return self.get_end_period() - self.get_start_period() + 1\n",
    "        \n",
    "    \n",
    "    def get_number_of_break_periods(self):\n",
    "        return 0\n",
    "    \n",
    "    def covers_demand(self, p, act):\n",
    "        for activity_block in self.activity_blocks:\n",
    "            if activity_block.covers_demand(p, act):\n",
    "                return True            \n",
    "        return False\n",
    "    \n",
    "    def get_list_representation(self):\n",
    "        list_rep = []\n",
    "        for block in activity_blocks:\n",
    "            list_rep += block.get_list_representation()            \n",
    "        return list_rep"
   ]
  },
  {
   "cell_type": "code",
   "execution_count": null,
   "metadata": {},
   "outputs": [
    {
     "name": "stdout",
     "output_type": "stream",
     "text": [
      "5\n"
     ]
    },
    {
     "data": {
      "text/plain": [
       "[1, 1, 1, 2, 2]"
      ]
     },
     "execution_count": null,
     "metadata": {},
     "output_type": "execute_result"
    }
   ],
   "source": [
    "    \n",
    "activity_blocks = [ActivityBlock(0,2,1), ActivityBlock(3,4,2)]\n",
    "    \n",
    "work_block = WorkBlock(activity_blocks)\n",
    "\n",
    "print(work_block.get_number_of_work_periods())\n",
    "\n",
    "work_block.get_list_representation()"
   ]
  },
  {
   "cell_type": "code",
   "execution_count": null,
   "metadata": {},
   "outputs": [],
   "source": [
    "#export\n",
    "\n",
    "def create_work_blocks_from_activity_blocks(activity_blocks):      \n",
    "    blocks = []\n",
    "    work_activity_blocks = []\n",
    "    # create activity blocks:\n",
    "    for activity_block in activity_blocks:\n",
    "        \n",
    "        if not activity_block.is_work():\n",
    "            \n",
    "            if len(work_activity_blocks) > 0:\n",
    "                blocks.append(WorkBlock(work_activity_blocks))\n",
    "                \n",
    "            blocks.append(activity_block)\n",
    "            \n",
    "            work_activity_blocks = []\n",
    "            \n",
    "        else:   \n",
    "            work_activity_blocks.append(activity_block)\n",
    "      \n",
    "    if len(work_activity_blocks) > 0:\n",
    "        blocks.append(WorkBlock(work_activity_blocks))\n",
    "        \n",
    "    return blocks\n",
    "    "
   ]
  },
  {
   "cell_type": "markdown",
   "metadata": {},
   "source": [
    "We should be able to read also if there is not \"break, but empty space\""
   ]
  },
  {
   "cell_type": "code",
   "execution_count": null,
   "metadata": {},
   "outputs": [
    {
     "data": {
      "text/plain": [
       "[WorkBlock(activity_blocks=[ActivityBlock(start_period=0, end_period=2, activity_type=1)]),\n",
       " ActivityBlock(start_period=3, end_period=3, activity_type='break'),\n",
       " WorkBlock(activity_blocks=[ActivityBlock(start_period=4, end_period=5, activity_type=2)])]"
      ]
     },
     "execution_count": null,
     "metadata": {},
     "output_type": "execute_result"
    }
   ],
   "source": [
    "activity_blocks = create_activity_blocks_from_list_or_array([1, 1, 1, 'break', 2, 2])\n",
    "\n",
    "create_work_blocks_from_activity_blocks(activity_blocks)"
   ]
  },
  {
   "cell_type": "code",
   "execution_count": null,
   "metadata": {},
   "outputs": [],
   "source": []
  },
  {
   "cell_type": "markdown",
   "metadata": {},
   "source": [
    "### Shifts\n"
   ]
  },
  {
   "cell_type": "code",
   "execution_count": null,
   "metadata": {},
   "outputs": [],
   "source": [
    "#export\n",
    "\n",
    "@dataclass\n",
    "class Shift:\n",
    "    activity_blocks : list = field(default_factory=list)\n",
    "    work_and_break_blocks: list = field(default_factory=list)\n",
    "\n",
    "    \n",
    "    @classmethod\n",
    "    def from_list_or_array(cls,activity_list):\n",
    "        activity_blocks = create_activity_blocks_from_list_or_array(activity_list)\n",
    "        work_and_break_blocks = create_work_blocks_from_activity_blocks(activity_blocks)        \n",
    "        return cls(activity_blocks, work_and_break_blocks)\n",
    "    \n",
    "    @classmethod\n",
    "    def from_activity_blocks(cls,activity_blocks):\n",
    "        work_and_break_blocks = create_work_blocks_from_activity_blocks(activity_blocks)        \n",
    "        return cls(activity_blocks, work_and_break_blocks)\n",
    "    \n",
    "    def get_start_period(self):\n",
    "        return self.work_and_break_blocks[0].get_start_period()\n",
    "    \n",
    "    def get_end_period(self):\n",
    "        return self.work_and_break_blocks[-1].get_end_period()\n",
    "    \n",
    "    def get_number_of_periods(self):\n",
    "        self.get_end_period() - self.get_start_period() + 1\n",
    "    \n",
    "    def get_number_of_work_periods(self):        \n",
    "        number_of_work_periods = 0        \n",
    "        for block in self.work_and_break_blocks:\n",
    "            number_of_work_periods += block.get_number_of_work_periods()          \n",
    "        return number_of_work_periods\n",
    "               \n",
    "    def get_number_of_break_periods(self):\n",
    "        number_of_break_periods = 0      \n",
    "        for block in self.work_and_break_blocks:\n",
    "            number_of_break_periods += block.get_number_of_break_periods()\n",
    "        return number_of_break_periods\n",
    "    \n",
    "    def covers_demand(self, p, act):\n",
    "        for block in self.work_and_break_blocks:\n",
    "            if block.covers_demand(p, act):\n",
    "                return True            \n",
    "        return False\n",
    " \n",
    "    def get_number_of_work_blocks(self):\n",
    "        number_of_blocks = 0\n",
    "        for block in work_and_break_blocks:\n",
    "            if block.is_work():\n",
    "                number_of_blocks+=1\n",
    "        return number_of_blocks       \n",
    "    \n",
    "    def get_number_of_break_blocks(self):\n",
    "        number_of_blocks = 0\n",
    "        for block in work_and_break_blocks:\n",
    "            if not block.is_work():\n",
    "                number_of_blocks+=1\n",
    "        return number_of_blocks       \n",
    "    \n",
    "    def get_list_representation(self):\n",
    "        list_rep = []\n",
    "        for block in self.activity_blocks:\n",
    "                list_rep += block.get_list_representation()\n",
    "        return list_rep\n",
    "        \n",
    "    \n",
    "    def get_array_representation(self,number_of_periods):\n",
    "        full_list = []\n",
    "        \n",
    "        array_representation = np.full(number_of_periods,'')\n",
    "        \n",
    "        i = self.get_start_period()\n",
    "        \n",
    "        for activity in self.get_list_representation():\n",
    "            array_representation[i] = activity\n",
    "            i +=1\n",
    "            \n",
    "        return array_representation"
   ]
  },
  {
   "cell_type": "markdown",
   "metadata": {},
   "source": [
    "### ShiftSchedule"
   ]
  },
  {
   "cell_type": "code",
   "execution_count": null,
   "metadata": {},
   "outputs": [],
   "source": [
    "#export\n",
    "\n",
    "def turn_string_to_activity_number(activity):\n",
    "    if activity == '':\n",
    "        return activity\n",
    "    else:\n",
    "        return int(activity)\n",
    "\n",
    "@dataclass\n",
    "class ShiftSchedule:\n",
    "    shifts : list = field(default_factory=list)    \n",
    "        \n",
    "    def get_demand_coverage(self, p, act):\n",
    "        coverage = 0\n",
    "        for shift in self.shifts:\n",
    "            if shift.covers_demand(p,act):\n",
    "                coverage +=1                \n",
    "        return coverage\n",
    "    \n",
    "    \n",
    "    def get_number_of_periods(self):\n",
    "        max_number = 0\n",
    "        for shift in self.shifts:\n",
    "            max_number = max(max_number, shift.activity_blocks[-1].get_end_period()+1)\n",
    "        return max_number\n",
    "    \n",
    "    def get_number_of_shifts(self):\n",
    "        return len(self.shifts)\n",
    "    \n",
    "\n",
    "        \n",
    "    @classmethod\n",
    "    def from_list_or_array(cls, activity_lists):\n",
    "        shifts = []\n",
    "        for activity_list in activity_lists:\n",
    "            shifts.append(Shift.from_list_or_array(activity_list))\n",
    "        return cls(shifts)\n",
    "    \n",
    "    @classmethod\n",
    "    def from_file(cls, filename):\n",
    "        f = open(filename)    \n",
    "        lines = f.readlines()\n",
    "        shifts = []\n",
    "        for  line in lines:\n",
    "            activity_list = [turn_string_to_activity_number(activity) for activity in line.rstrip().split(';')]\n",
    "            shifts.append(Shift.from_list_or_array(activity_list))\n",
    "        return cls(shifts)\n",
    "    \n",
    "    def write_to_csv(self, filename):\n",
    "        shift_array = [shift.get_array_representation(self.get_number_of_periods()) for shift in self.shifts]\n",
    "        np.savetxt(filename, np.array(shift_array), fmt='%s', delimiter=';')\n",
    "    \n",
    "    def write_solution_to_csv(self, instance, path = '.'):\n",
    "        \n",
    "        filename = path + '/' + instance.instance_name + '_sol.csv'\n",
    "        \n",
    "        self.write_to_csv(filename)\n",
    "        \n",
    "\n",
    "\n",
    "    \n",
    "  "
   ]
  },
  {
   "cell_type": "code",
   "execution_count": null,
   "metadata": {},
   "outputs": [],
   "source": [
    "\n",
    "shift_schedule = ShiftSchedule.from_file(\"test_data/sol1.csv\")\n",
    "\n",
    "shift_schedule.write_to_csv(\"test_data/sol2.csv\")"
   ]
  },
  {
   "cell_type": "markdown",
   "metadata": {},
   "source": [
    "## Rule-Related Data Structures and Functions\n",
    "\n"
   ]
  },
  {
   "cell_type": "markdown",
   "metadata": {},
   "source": [
    "Below, we provide some data structures for providing a unified treatment of rule checking and reporting.\n",
    "\n",
    "First, we have a namded tuple called `Penalty` which simply forms a tuple of a string with a rule name and a numerical value (a penalty).\n",
    "\n",
    "Then, there is a class called `RuleEvaluationResult`. The attributes of this class are:\n",
    "- a list of strings with hard rule violations\n",
    "- a list of Penalty-objects.\n",
    "\n",
    "This class can be used on different levels. We can\n",
    "- explicitly add a hard rule violation or a penalty\n",
    "- add another RuleEvaluationResult (this way, we can, for example compute the results for multiple shifts and combine them for a full shift schedule.\n",
    "\n",
    "Then, there are various functions for computing total penalties and data frames that list details about the different penality types.\n",
    "\n",
    "**TODO: We should create a small example rule set and a small schedule that we can use here as a dummy example**\n"
   ]
  },
  {
   "cell_type": "code",
   "execution_count": null,
   "metadata": {},
   "outputs": [],
   "source": [
    "#export\n",
    "\n",
    "\n",
    "Penalty=namedtuple('Penalty',['rule','penalty'])\n",
    "                              \n",
    "\n",
    "\n",
    "class RuleEvaluationResult:\n",
    "    def __init__(self):                        \n",
    "        self.hard_rule_violations = []\n",
    "        self.penalties = []\n",
    "        \n",
    "    def add_hard_rule_violation(self, rule_violation):\n",
    "        self.hard_rule_violations.append(rule_violation)\n",
    "        \n",
    "    def add_penalty(self, rule, penalty):\n",
    "        self.penalties.append(Penalty(rule, penalty))\n",
    "        \n",
    "    def add_rule_evaluation_result(self, rule_evaluation_result):\n",
    "        self.hard_rule_violations += rule_evaluation_result.hard_rule_violations\n",
    "        self.penalties += rule_evaluation_result.penalties\n",
    "        \n",
    "    def get_df_hard_rule_violations(self):\n",
    "        return pd.DataFrame(self.hard_rule_violations)\n",
    "        \n",
    "    def get_df_grouped_penalties(self):\n",
    "        return pd.DataFrame(self.penalties).groupby(['rule'])['penalty'].sum().reset_index().style.hide_index()\n",
    "    \n",
    "    def get_df_detailed_penalties(self):\n",
    "        return pd.DataFrame(self.penalties).style.hide_index()\n",
    "        \n",
    "    def get_total_penalty(self):\n",
    "        return pd.DataFrame(self.penalties)['penalty'].sum()\n",
    "    \n",
    "        \n",
    "    def is_feasible(self):\n",
    "        return len(self.hard_rule_violations) == 0\n",
    "        \n",
    "\n"
   ]
  },
  {
   "cell_type": "markdown",
   "metadata": {},
   "source": [
    "The following function takes a schedule and a rule set and returns an EvaluationResults-Object.\n",
    "\n",
    "Note that the rule_set is a class that needs to be implemented for a given problem type / instance-set. The rule_set needs to implement all the methods that are called below, namely:\n",
    "- check_activity_block_rules\n",
    "- check_work_block_rules\n",
    "- check_shift_rules\n",
    "- check_demand_coverage\n",
    "\n",
    "At the moment, this package contains two implementations of such rule sets, for the Demassey-instances and for the Dahmen-instances.\n",
    "    \n"
   ]
  },
  {
   "cell_type": "code",
   "execution_count": null,
   "metadata": {},
   "outputs": [],
   "source": [
    "#export\n",
    "\n",
    "def evaluate_shift_schedule(shift_schedule, rule_set):\n",
    "    evaluation_results = RuleEvaluationResult()\n",
    "    \n",
    "    shift_id = 0\n",
    "    for shift in shift_schedule.shifts:\n",
    "        \n",
    "        for activity_block in shift.activity_blocks:\n",
    "            evaluation_results.add_rule_evaluation_result(rule_set.check_activity_block_rules(activity_block))\n",
    "                                   \n",
    "        for block in shift.work_and_break_blocks:\n",
    "            if block.is_work():\n",
    "                evaluation_results.add_rule_evaluation_result(rule_set.check_work_block_rules(block, shift_id))\n",
    "        \n",
    "        evaluation_results.add_rule_evaluation_result(rule_set.check_shift_rules(shift, shift_id))\n",
    "    shift_id = 0\n",
    "        \n",
    "    for p in range(rule_set.instance.number_of_periods):\n",
    "        for activity in range(rule_set.instance.number_of_activities):\n",
    "            covered_demand = shift_schedule.get_demand_coverage(p, activity)\n",
    "            res = rule_set.check_demand_coverage(p, activity, covered_demand)\n",
    "            \n",
    "            #if len(res.penalties) > 0:\n",
    "            #    print (f\"Period {p} Activity {activity} Penalty {res}\")\n",
    "            evaluation_results.add_rule_evaluation_result(res)\n",
    "        \n",
    "        \n",
    "    return evaluation_results"
   ]
  },
  {
   "cell_type": "markdown",
   "metadata": {},
   "source": [
    "Below two helper functions for computing covered demands.\n",
    "\n",
    "They assume that the instance object has the two attributes `number_of_periods` and `number_of_activities`"
   ]
  },
  {
   "cell_type": "code",
   "execution_count": null,
   "metadata": {},
   "outputs": [],
   "source": [
    "#export\n",
    "\n",
    "def get_covered_activity_demands_per_period(shift_schedule, instance):\n",
    "        \n",
    "           \n",
    "        covered_demands = []\n",
    "        \n",
    "        for activity in range(instance.number_of_activities):\n",
    "            covered_demand = []\n",
    "            for p in range(instance.number_of_periods):\n",
    "                covered_demand.append(shift_schedule.get_demand_coverage(p, activity))\n",
    "                \n",
    "            covered_demands.append(covered_demand)\n",
    "        \n",
    "        return covered_demands\n",
    "    \n",
    "def get_covered_aggregate_demand_per_period(shift_schedule, instance):\n",
    "        \n",
    "    \n",
    "        covered_demand = []\n",
    "        \n",
    "        for p in range(instance.number_of_periods):\n",
    "            cover = 0\n",
    "            for activity in range(instance.number_of_activities):       \n",
    "                cover += shift_schedule.get_demand_coverage(p, activity)\n",
    "                \n",
    "            covered_demand.append(cover)\n",
    "        \n",
    "        return covered_demand"
   ]
  },
  {
   "cell_type": "markdown",
   "metadata": {},
   "source": []
  },
  {
   "cell_type": "markdown",
   "metadata": {},
   "source": [
    "## Exporting"
   ]
  },
  {
   "cell_type": "code",
   "execution_count": null,
   "metadata": {},
   "outputs": [
    {
     "name": "stdout",
     "output_type": "stream",
     "text": [
      "Converted 00_data_stuctures.ipynb.\n",
      "Converted 00_reporting.ipynb.\n",
      "Converted 01_demassey.ipynb.\n",
      "Converted 02_dahmen.ipynb.\n",
      "Converted index.ipynb.\n"
     ]
    }
   ],
   "source": [
    "\n",
    "\n",
    "#hide\n",
    "from nbdev.export import *\n",
    "notebook2script()\n",
    "\n"
   ]
  },
  {
   "cell_type": "code",
   "execution_count": null,
   "metadata": {},
   "outputs": [],
   "source": []
  }
 ],
 "metadata": {
  "kernelspec": {
   "display_name": "Python [conda env:shift_scheduling]",
   "language": "python",
   "name": "conda-env-shift_scheduling-py"
  },
  "language_info": {
   "codemirror_mode": {
    "name": "ipython",
    "version": 3
   },
   "file_extension": ".py",
   "mimetype": "text/x-python",
   "name": "python",
   "nbconvert_exporter": "python",
   "pygments_lexer": "ipython3",
   "version": "3.9.10"
  }
 },
 "nbformat": 4,
 "nbformat_minor": 4
}

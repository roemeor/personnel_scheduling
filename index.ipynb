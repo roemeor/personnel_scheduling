{
 "cells": [
  {
   "cell_type": "code",
   "execution_count": null,
   "metadata": {},
   "outputs": [],
   "source": [
    "#hide\n"
   ]
  },
  {
   "cell_type": "markdown",
   "metadata": {},
   "source": [
    "# Personnel Scheduling Library\n",
    "\n",
    "> This library provides data structures and code that are useful for personnel scheduling"
   ]
  },
  {
   "cell_type": "markdown",
   "metadata": {},
   "source": [
    "We will have more documentation later."
   ]
  },
  {
   "cell_type": "markdown",
   "metadata": {},
   "source": [
    "## Install"
   ]
  },
  {
   "cell_type": "markdown",
   "metadata": {},
   "source": [
    "To install on your computer, the easiest way may be to use a distribution such as Anaconda or Miniconda. \n",
    "\n",
    "I would recommend creating an own conda environment (see https://docs.conda.io/projects/conda/en/latest/user-guide/tasks/manage-environments.html) for this project, you can set up the environment by calling `conda env create -f environment.yml` from the root directory of the clone of the git repository. \n",
    "\n",
    "After having done this, you can start Jupyter Lab from your original `base` environment, and choose the `personnel_scheduling` kernel that has all needed packages installed.\n"
   ]
  },
  {
   "cell_type": "code",
   "execution_count": null,
   "metadata": {},
   "outputs": [],
   "source": []
  },
  {
   "cell_type": "markdown",
   "metadata": {},
   "source": [
    "## General Project Structure\n",
    "\n",
    "The project uses [nbdev](https://nbdev.fast.ai/) an environment where we can develop in notebooks, and code can be automatically exported in python files. This way, we can use multiple notebooks. (nbdev has a lot more functionality, but this is most important for us here.). Please find the documentation for nbdev at https://nbdev.fast.ai/\n",
    "\n",
    "Currently, two basic notebooks (00_datastructures and 00_reporting) and two notebooks for shift scheduling problem instances (The Demassey instances, and the Dahmen instances), providing implementations of the rulesets and functionality for reading instances.\n",
    "\n",
    "\n",
    "## Workflow for development and experimentation\n",
    "When you have changed something in one of the basic notebooks, make sure that you save the notebook and execute the function `notebook2script()` (which you already find in the last cells of each notebook and at the beginning of the experimentation notebook).\n",
    "\n",
    "After that, to make sure that everything is clean, it is recommended to shutdown and restart the current kernel."
   ]
  },
  {
   "cell_type": "markdown",
   "metadata": {},
   "source": [
    "## Workflow for collaboration / git\n",
    "\n",
    "The repository is hosted on git, and you should regularly commit your changes to a git and push them to github. Please only develop in your own branches, you can later create pull requests that are merged in the master branch. See https://ericmjl.github.io/essays-on-data-science/workflow/gitflow/ for a good description of the workflow I intend to use.\n",
    "\n"
   ]
  },
  {
   "cell_type": "markdown",
   "metadata": {},
   "source": [
    "### Before committing \n",
    "\n",
    "Before commiting, please do the following steps:\n",
    "- save and close all notebooks\n",
    "- make sure that all notebooks work\n",
    "- call the follown cell which:\n",
    "    - syncs the notebooks with the python-files\n",
    "    - cleans the notebooks and removes all outputs.\n",
    "- after running this cell, please just close this index-notebook without saving."
   ]
  },
  {
   "cell_type": "code",
   "execution_count": null,
   "metadata": {},
   "outputs": [],
   "source": [
    "#hide\n",
    "from nbdev.clean import *\n",
    "from nbdev.export import *\n",
    "notebook2script()\n",
    "nbdev_clean_nbs()"
   ]
  },
  {
   "cell_type": "markdown",
   "metadata": {},
   "source": [
    "\n",
    "If there are any merge conflicts, conflicts in the auto-generated python files can be more or less ignored or resolved easily using \"use mine or sth\". To resolve conflicts in the notebooks, we should use the package nbdime.\n",
    "\n",
    "If there are any merge conflicts, please open the local repo folder in the prompt and type `nbdime mergetool`, then you can resolve conflicts more easily.\n"
   ]
  }
 ],
 "metadata": {
  "kernelspec": {
   "display_name": "Python [conda env:shift_scheduling]",
   "language": "python",
   "name": "conda-env-shift_scheduling-py"
  }
 },
 "nbformat": 4,
 "nbformat_minor": 4
}
